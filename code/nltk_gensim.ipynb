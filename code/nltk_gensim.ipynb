{
 "cells": [
  {
   "cell_type": "code",
   "execution_count": 2,
   "metadata": {},
   "outputs": [],
   "source": [
    "from nltk.test.gensim_fixt import setup_module\n",
    "setup_module()"
   ]
  },
  {
   "cell_type": "code",
   "execution_count": 3,
   "metadata": {},
   "outputs": [],
   "source": [
    "import gensim"
   ]
  },
  {
   "cell_type": "code",
   "execution_count": 24,
   "metadata": {},
   "outputs": [],
   "source": [
    "# import nltk\n",
    "# nltk.download('brown')\n",
    "from nltk.corpus import brown\n",
    "train_set = brown.sents()#[:10000]"
   ]
  },
  {
   "cell_type": "code",
   "execution_count": 26,
   "metadata": {},
   "outputs": [],
   "source": [
    "model = gensim.models.Word2Vec(train_set, negative=0, sg=0, hs=1, cbow_mean=0)"
   ]
  },
  {
   "cell_type": "code",
   "execution_count": 27,
   "metadata": {},
   "outputs": [
    {
     "data": {
      "text/plain": [
       "100"
      ]
     },
     "execution_count": 27,
     "metadata": {},
     "output_type": "execute_result"
    }
   ],
   "source": [
    "len(model.wv['university'])"
   ]
  },
  {
   "cell_type": "code",
   "execution_count": 28,
   "metadata": {},
   "outputs": [],
   "source": [
    "with open(\"../dataset/word-test.v1.txt\", \"r\", encoding=\"utf-8\") as f:\n",
    "    word_test = f.readlines()"
   ]
  },
  {
   "cell_type": "code",
   "execution_count": 29,
   "metadata": {},
   "outputs": [
    {
     "name": "stdout",
     "output_type": "stream",
     "text": [
      "0 0\n",
      ": capital-common-countries\n",
      "4 506\n",
      ": capital-world\n",
      "3 4524\n",
      ": currency\n",
      "0 866\n",
      ": city-in-state\n",
      "7 2467\n",
      ": family\n",
      "74 506\n",
      ": gram1-adjective-to-adverb\n",
      "5 992\n",
      ": gram2-opposite\n",
      "3 812\n",
      ": gram3-comparative\n",
      "202 1332\n",
      ": gram4-superlative\n",
      "1 1122\n",
      ": gram5-present-participle\n",
      "38 1056\n",
      ": gram6-nationality-adjective\n",
      "0 1599\n",
      ": gram7-past-tense\n",
      "123 1560\n",
      ": gram8-plural\n",
      "29 1332\n",
      ": gram9-plural-verbs\n"
     ]
    }
   ],
   "source": [
    "def in_top5(x1, x2, y1, y2):\n",
    "    if x1 not in model.wv.key_to_index or x2 not in model.wv.key_to_index or y1 not in model.wv.key_to_index or y2 not in model.wv.key_to_index:\n",
    "        return False\n",
    "    result = model.wv.most_similar(positive=[y1, x2], negative=[x1], topn=5)\n",
    "    return y2 in list(zip(*result))[0]\n",
    "\n",
    "count = 0\n",
    "total = 0\n",
    "for line in word_test:\n",
    "    line = line.strip()\n",
    "\n",
    "    if len(line) == 0 or line.startswith(\"//\"):\n",
    "        continue\n",
    "    elif line.startswith(\": \"):\n",
    "        print(count, total)\n",
    "        print(line)\n",
    "        count = 0\n",
    "        total  = 0\n",
    "    else:\n",
    "        line = line.split()\n",
    "        if in_top5(line[0], line[1], line[2], line[3]):\n",
    "            count += 1\n",
    "        total += 1\n"
   ]
  },
  {
   "cell_type": "code",
   "execution_count": 59,
   "metadata": {},
   "outputs": [
    {
     "name": "stdout",
     "output_type": "stream",
     "text": [
      "15173\n"
     ]
    }
   ],
   "source": [
    "print(len(model.wv.key_to_index))"
   ]
  },
  {
   "cell_type": "code",
   "execution_count": 57,
   "metadata": {},
   "outputs": [],
   "source": [
    "import numpy as np\n",
    "\n",
    "norms = (model.wv.vectors**2).sum(axis=1, keepdims=True) ** (1 / 2)\n",
    "embeddings_norm = model.wv.vectors / norms\n",
    "\n",
    "def vector_op(a, b, c, d, show=False, do_norm=True):\n",
    "\n",
    "    def norm(emb):\n",
    "        emb_norm = (emb**2).sum() ** (1 / 2)\n",
    "        emb = emb / emb_norm\n",
    "        return emb\n",
    "    \n",
    "    if a not in model.wv.key_to_index or b not in model.wv.key_to_index or c not in model.wv.key_to_index or d not in model.wv.key_to_index:\n",
    "        return False\n",
    "\n",
    "\n",
    "    emb1 = norm(model.wv[a]) if do_norm else model.wv[a]\n",
    "    emb2 = norm(model.wv[b]) if do_norm else model.wv[b]\n",
    "    emb3 = norm(model.wv[c]) if do_norm else model.wv[c]\n",
    "\n",
    "    emb4 = emb2 - emb1 + emb3\n",
    "    if do_norm:\n",
    "        emb4 = norm(emb4)\n",
    "\n",
    "    emb4 = np.reshape(emb4, (len(emb4), 1))\n",
    "    dists = np.matmul(embeddings_norm if do_norm else model.wv.vectors, emb4).flatten()\n",
    "\n",
    "    top5 = np.argsort(-dists)[:5]\n",
    "    ret = model.wv.key_to_index[d] in top5\n",
    "\n",
    "    if show:\n",
    "        print(f\"{b} - {a} + {c} = \")\n",
    "        for word_id in top5:\n",
    "            print(\"{}: {}\".format(model.wv.index_to_key[word_id.item()], dists[word_id]))    \n",
    "\n",
    "    # top5 = np.argsort(-dists)[:10]\n",
    "    # for word_id in top5:\n",
    "    #     print(\"{}: {:.3f}\".format(vocab[\"i2w\"][word_id.item()], dists[word_id]))\n",
    "    return ret"
   ]
  },
  {
   "cell_type": "code",
   "execution_count": 48,
   "metadata": {},
   "outputs": [
    {
     "name": "stdout",
     "output_type": "stream",
     "text": [
      "0 0\n",
      ": capital-common-countries\n",
      "0 506\n",
      ": capital-world\n",
      "0 4524\n",
      ": currency\n",
      "0 866\n",
      ": city-in-state\n",
      "0 2467\n",
      ": family\n",
      "50 506\n",
      ": gram1-adjective-to-adverb\n",
      "0 992\n",
      ": gram2-opposite\n",
      "0 812\n",
      ": gram3-comparative\n",
      "22 1332\n",
      ": gram4-superlative\n",
      "0 1122\n",
      ": gram5-present-participle\n",
      "10 1056\n",
      ": gram6-nationality-adjective\n",
      "0 1599\n",
      ": gram7-past-tense\n",
      "133 1560\n",
      ": gram8-plural\n",
      "23 1332\n",
      ": gram9-plural-verbs\n"
     ]
    }
   ],
   "source": [
    "count = 0\n",
    "total = 0\n",
    "for line in word_test:\n",
    "    line = line.strip()\n",
    "\n",
    "    if len(line) == 0 or line.startswith(\"//\"):\n",
    "        continue\n",
    "    elif line.startswith(\": \"):\n",
    "        print(count, total)\n",
    "        print(line)\n",
    "        count = 0\n",
    "        total = 0\n",
    "    else:\n",
    "        line = line.split()\n",
    "        if vector_op(line[0], line[1], line[2], line[3]):\n",
    "            count += 1\n",
    "        total += 1"
   ]
  },
  {
   "cell_type": "code",
   "execution_count": 58,
   "metadata": {},
   "outputs": [
    {
     "name": "stdout",
     "output_type": "stream",
     "text": [
      "woman - man + king = \n",
      "per: 0.5599241256713867\n",
      "Rhode: 0.4594147503376007\n",
      "St.: 0.3398160934448242\n",
      "available: 0.2923399806022644\n",
      "?: 0.2909367084503174\n",
      "\n",
      "woman - man + king = \n",
      "king: 0.794495165348053\n",
      "ankles: 0.49213099479675293\n",
      "thoughts: 0.4885934591293335\n",
      "peers: 0.4820511043071747\n",
      "submerged: 0.47322896122932434\n",
      "\n",
      "[('ankles', 0.49213099479675293), ('thoughts', 0.4885934293270111), ('peers', 0.4820511043071747), ('submerged', 0.47322893142700195), ('destination', 0.46488702297210693)]\n"
     ]
    }
   ],
   "source": [
    "vector_op(\"man\", \"woman\", \"king\", \"queen\", show=True, do_norm=False)\n",
    "print()\n",
    "vector_op(\"man\", \"woman\", \"king\", \"queen\", show=True, do_norm=True)\n",
    "print()\n",
    "print(model.wv.most_similar(positive=[\"king\", \"woman\"], negative=[\"man\"], topn=5))"
   ]
  }
 ],
 "metadata": {
  "kernelspec": {
   "display_name": ".venv",
   "language": "python",
   "name": "python3"
  },
  "language_info": {
   "codemirror_mode": {
    "name": "ipython",
    "version": 3
   },
   "file_extension": ".py",
   "mimetype": "text/x-python",
   "name": "python",
   "nbconvert_exporter": "python",
   "pygments_lexer": "ipython3",
   "version": "3.10.9"
  },
  "orig_nbformat": 4
 },
 "nbformat": 4,
 "nbformat_minor": 2
}
