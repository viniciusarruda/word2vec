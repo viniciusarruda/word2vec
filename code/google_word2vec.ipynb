{
 "cells": [
  {
   "cell_type": "code",
   "execution_count": 2,
   "metadata": {},
   "outputs": [],
   "source": [
    "import numpy as np\n",
    "from gensim.models import KeyedVectors"
   ]
  },
  {
   "cell_type": "code",
   "execution_count": 27,
   "metadata": {},
   "outputs": [],
   "source": [
    "\n",
    "model = KeyedVectors.load_word2vec_format('../GoogleNews-vectors-negative300.bin', binary=True)#, limit=100000)"
   ]
  },
  {
   "cell_type": "code",
   "execution_count": 5,
   "metadata": {},
   "outputs": [
    {
     "data": {
      "text/plain": [
       "[('america', 0.6311532855033875),\n",
       " ('.....', 0.5950076580047607),\n",
       " ('thats', 0.5908678770065308),\n",
       " ('american', 0.5797212719917297),\n",
       " ('ppl', 0.5668432712554932),\n",
       " ('i_dont', 0.563754677772522),\n",
       " ('OBAMA', 0.5561788082122803),\n",
       " ('whats', 0.5557310581207275),\n",
       " ('dont', 0.5540837645530701),\n",
       " ('ur', 0.5486299991607666)]"
      ]
     },
     "execution_count": 5,
     "metadata": {},
     "output_type": "execute_result"
    }
   ],
   "source": [
    "model.most_similar('obama')"
   ]
  },
  {
   "cell_type": "code",
   "execution_count": 28,
   "metadata": {},
   "outputs": [
    {
     "name": "stdout",
     "output_type": "stream",
     "text": [
      "queen: 0.7118\n"
     ]
    }
   ],
   "source": [
    "result = model.most_similar(positive=['woman', 'king'], negative=['man'])\n",
    "print(\"{}: {:.4f}\".format(*result[0]))"
   ]
  },
  {
   "cell_type": "code",
   "execution_count": 29,
   "metadata": {},
   "outputs": [],
   "source": [
    "def analogy(x1, x2, y1):\n",
    "    result = model.most_similar(positive=[y1, x2], negative=[x1])\n",
    "    print(result)\n",
    "    return result[0][0]"
   ]
  },
  {
   "cell_type": "code",
   "execution_count": 30,
   "metadata": {},
   "outputs": [
    {
     "name": "stdout",
     "output_type": "stream",
     "text": [
      "[('queen', 0.7118193507194519), ('monarch', 0.6189674139022827), ('princess', 0.5902431011199951), ('crown_prince', 0.5499460697174072), ('prince', 0.5377321839332581), ('kings', 0.5236844420433044), ('Queen_Consort', 0.5235945582389832), ('queens', 0.5181134343147278), ('sultan', 0.5098593831062317), ('monarchy', 0.5087411999702454)]\n"
     ]
    },
    {
     "data": {
      "text/plain": [
       "'queen'"
      ]
     },
     "execution_count": 30,
     "metadata": {},
     "output_type": "execute_result"
    }
   ],
   "source": [
    "analogy('man', 'woman', 'king')"
   ]
  },
  {
   "cell_type": "code",
   "execution_count": 31,
   "metadata": {},
   "outputs": [],
   "source": [
    "with open(\"../dataset/word-test.v1.txt\", \"r\", encoding=\"utf-8\") as f:\n",
    "    word_test = f.readlines()"
   ]
  },
  {
   "cell_type": "code",
   "execution_count": 25,
   "metadata": {},
   "outputs": [
    {
     "name": "stdout",
     "output_type": "stream",
     "text": [
      "732\n"
     ]
    }
   ],
   "source": [
    "# print(model.key_to_index[\"\"])\n",
    "# for e, i in enumerate(model.key_to_index.items()):\n",
    "#     print(i)\n",
    "#     if e == 20:\n",
    "#         break"
   ]
  },
  {
   "cell_type": "code",
   "execution_count": 33,
   "metadata": {},
   "outputs": [
    {
     "name": "stdout",
     "output_type": "stream",
     "text": [
      "0 0\n",
      ": capital-common-countries\n",
      "482 506\n",
      ": capital-world\n",
      "4124 4524\n",
      ": currency\n",
      "431 866\n",
      ": city-in-state\n",
      "2127 2467\n",
      ": family\n",
      "482 506\n",
      ": gram1-adjective-to-adverb\n",
      "509 992\n",
      ": gram2-opposite\n",
      "457 812\n",
      ": gram3-comparative\n",
      "1295 1332\n",
      ": gram4-superlative\n",
      "1102 1122\n",
      ": gram5-present-participle\n",
      "1004 1056\n",
      ": gram6-nationality-adjective\n",
      "1527 1599\n",
      ": gram7-past-tense\n",
      "1459 1560\n",
      ": gram8-plural\n",
      "1275 1332\n",
      ": gram9-plural-verbs\n"
     ]
    }
   ],
   "source": [
    "def in_top5(x1, x2, y1, y2):\n",
    "    if x1 not in model.key_to_index or x2 not in model.key_to_index or y1 not in model.key_to_index or y2 not in model.key_to_index:\n",
    "        return False\n",
    "    result = model.most_similar(positive=[y1, x2], negative=[x1], topn=5)\n",
    "    return y2 in list(zip(*result))[0]\n",
    "\n",
    "count = 0\n",
    "total = 0\n",
    "for line in word_test:\n",
    "    line = line.strip()\n",
    "\n",
    "    if len(line) == 0 or line.startswith(\"//\"):\n",
    "        continue\n",
    "    elif line.startswith(\": \"):\n",
    "        print(count, total)\n",
    "        print(line)\n",
    "        count = 0\n",
    "        total  = 0\n",
    "    else:\n",
    "        line = line.split()\n",
    "        if in_top5(line[0], line[1], line[2], line[3]):\n",
    "            count += 1\n",
    "        total += 1"
   ]
  }
 ],
 "metadata": {
  "kernelspec": {
   "display_name": ".venv",
   "language": "python",
   "name": "python3"
  },
  "language_info": {
   "codemirror_mode": {
    "name": "ipython",
    "version": 3
   },
   "file_extension": ".py",
   "mimetype": "text/x-python",
   "name": "python",
   "nbconvert_exporter": "python",
   "pygments_lexer": "ipython3",
   "version": "3.10.9"
  },
  "orig_nbformat": 4
 },
 "nbformat": 4,
 "nbformat_minor": 2
}
